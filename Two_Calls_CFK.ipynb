{
 "cells": [
  {
   "cell_type": "code",
   "execution_count": 9,
   "metadata": {},
   "outputs": [
    {
     "data": {
      "text/plain": [
       "{'IBD': 'IBRD', 'IDB': 'Blend', 'IDX': 'IDA', 'LNX': 'Not classified'}"
      ]
     },
     "execution_count": 9,
     "metadata": {},
     "output_type": "execute_result"
    }
   ],
   "source": [
    "# Dependencies\n",
    "import requests\n",
    "import pandas as pd\n",
    "\n",
    "type_dict = {}\n",
    "\n",
    "url = \"http://api.worldbank.org/v2/\"\n",
    "api_format = \"json\"\n",
    "\n",
    "response = requests.get(f\"{url}lendingtype?format={api_format}\").json()\n",
    "response[1]\n",
    "lendingtype_dict = {data['id'] : data[\"value\"] for data in response[1]}\n",
    "type_list = [data['id'] for data in response[1]]\n",
    "lendingtype_dict"
   ]
  },
  {
   "cell_type": "code",
   "execution_count": 10,
   "metadata": {},
   "outputs": [
    {
     "data": {
      "text/plain": [
       "{'IBD': 68, 'IDB': 17, 'IDX': 59, 'LNX': 74}"
      ]
     },
     "execution_count": 10,
     "metadata": {},
     "output_type": "execute_result"
    }
   ],
   "source": [
    "country_types = {}\n",
    "for types in type_list:\n",
    "    countries_url = f\"http://api.worldbank.org/v2/countries?format=json&lendingtype={types}\"\n",
    "    response = requests.get(countries_url).json()\n",
    "    country_types[types] = response[0]['total']\n",
    "country_types\n"
   ]
  },
  {
   "cell_type": "code",
   "execution_count": 11,
   "metadata": {},
   "outputs": [
    {
     "data": {
      "text/html": [
       "<div>\n",
       "<style scoped>\n",
       "    .dataframe tbody tr th:only-of-type {\n",
       "        vertical-align: middle;\n",
       "    }\n",
       "\n",
       "    .dataframe tbody tr th {\n",
       "        vertical-align: top;\n",
       "    }\n",
       "\n",
       "    .dataframe thead th {\n",
       "        text-align: right;\n",
       "    }\n",
       "</style>\n",
       "<table border=\"1\" class=\"dataframe\">\n",
       "  <thead>\n",
       "    <tr style=\"text-align: right;\">\n",
       "      <th></th>\n",
       "      <th>Number of Countries</th>\n",
       "      <th>Description</th>\n",
       "    </tr>\n",
       "  </thead>\n",
       "  <tbody>\n",
       "    <tr>\n",
       "      <td>IBD</td>\n",
       "      <td>68</td>\n",
       "      <td>IBRD</td>\n",
       "    </tr>\n",
       "    <tr>\n",
       "      <td>IDB</td>\n",
       "      <td>17</td>\n",
       "      <td>Blend</td>\n",
       "    </tr>\n",
       "    <tr>\n",
       "      <td>IDX</td>\n",
       "      <td>59</td>\n",
       "      <td>IDA</td>\n",
       "    </tr>\n",
       "    <tr>\n",
       "      <td>LNX</td>\n",
       "      <td>74</td>\n",
       "      <td>Not classified</td>\n",
       "    </tr>\n",
       "  </tbody>\n",
       "</table>\n",
       "</div>"
      ],
      "text/plain": [
       "     Number of Countries     Description\n",
       "IBD                   68            IBRD\n",
       "IDB                   17           Blend\n",
       "IDX                   59             IDA\n",
       "LNX                   74  Not classified"
      ]
     },
     "execution_count": 11,
     "metadata": {},
     "output_type": "execute_result"
    }
   ],
   "source": [
    "# Get the list of lending types the world bank has\n",
    "\n",
    "lendingtypedf = pd.DataFrame([lendingtype_dict])\n",
    "country_typesdf = pd.DataFrame([country_types])\n",
    "country_typesdf = country_typesdf.T\n",
    "lendingtypedf = lendingtypedf.T\n",
    "country_typesdf.columns = [\"Number of Countries\"]\n",
    "all_info = pd.merge(country_typesdf, lendingtypedf, right_index = True, left_index = True)\n",
    "all_info.columns = [\"Number of Countries\", \"Description\"]\n",
    "all_info"
   ]
  },
  {
   "cell_type": "code",
   "execution_count": null,
   "metadata": {},
   "outputs": [],
   "source": [
    "# Next, determine how many countries fall into each lending type.\n",
    "\n",
    "# Hint: Look at the first element of the response array."
   ]
  },
  {
   "cell_type": "code",
   "execution_count": null,
   "metadata": {},
   "outputs": [],
   "source": [
    "# Print the number of countries of each lending type"
   ]
  }
 ],
 "metadata": {
  "kernelspec": {
   "display_name": "Python 3",
   "language": "python",
   "name": "python3"
  },
  "language_info": {
   "codemirror_mode": {
    "name": "ipython",
    "version": 3
   },
   "file_extension": ".py",
   "mimetype": "text/x-python",
   "name": "python",
   "nbconvert_exporter": "python",
   "pygments_lexer": "ipython3",
   "version": "3.7.4"
  },
  "varInspector": {
   "cols": {
    "lenName": 16,
    "lenType": 16,
    "lenVar": 40
   },
   "kernels_config": {
    "python": {
     "delete_cmd_postfix": "",
     "delete_cmd_prefix": "del ",
     "library": "var_list.py",
     "varRefreshCmd": "print(var_dic_list())"
    },
    "r": {
     "delete_cmd_postfix": ") ",
     "delete_cmd_prefix": "rm(",
     "library": "var_list.r",
     "varRefreshCmd": "cat(var_dic_list()) "
    }
   },
   "types_to_exclude": [
    "module",
    "function",
    "builtin_function_or_method",
    "instance",
    "_Feature"
   ],
   "window_display": false
  }
 },
 "nbformat": 4,
 "nbformat_minor": 2
}
